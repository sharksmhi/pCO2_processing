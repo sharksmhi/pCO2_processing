{
 "cells": [
  {
   "cell_type": "markdown",
   "metadata": {},
   "source": [
    "# Process ferrybox pCO2 data from HydroC on R/V Svea"
   ]
  },
  {
   "cell_type": "markdown",
   "metadata": {},
   "source": [
    "### First cell loads modules needed for the processing"
   ]
  },
  {
   "cell_type": "code",
   "execution_count": null,
   "metadata": {},
   "outputs": [],
   "source": [
    "%load_ext autoreload\n",
    "%autoreload 2\n",
    "import warnings\n",
    "import json\n",
    "warnings.filterwarnings('ignore')\n",
    "\n",
    "import datahandler\n",
    "from read_data import Cruise\n",
    "from read_data import ProcessData"
   ]
  },
  {
   "cell_type": "markdown",
   "metadata": {},
   "source": [
    "### Load information about cruise start and stop\n",
    "\n",
    "The processing is set up to process data from one cruise at a time. The information on start and stop date is stored in a .json-file named linear_regression_log.json. This file needs to be loaded before the processing. The file can be changed either be opening it and editing or as shown further down."
   ]
  },
  {
   "cell_type": "code",
   "execution_count": null,
   "metadata": {},
   "outputs": [],
   "source": [
    "linear_regression_log = json.load(open(\"./linear_regression_log.json\"))\n",
    "# if you want to view the content of the linear regression log uncomment this line (remove the #)\n",
    "# datahandler.print_linear_regression_log(linear_regression_log)"
   ]
  },
  {
   "cell_type": "markdown",
   "metadata": {},
   "source": [
    "### Change period of a cruise\n",
    "\n",
    "To edit the linear_regression log without opening the json file uncomment the code below and adjust to your needs.\n",
    "\n",
    "Här visas hur du ändrar i linear_regression_log.\n",
    "\n",
    "- För att lägga till en rad:\n",
    "    - *datahandler.modify_linear_regression_log(linear_regression_log, year, id, start, stop, action='add')*\n",
    "- För att ta bort en rad:\n",
    "    - *datahandler.modify_linear_regression_log(linear_regression_log, year, id, start, stop, action='remove')*\n",
    "\n",
    "Linear regression log säger hur data ska delas upp efter datum och i nästa steg när data läses in kommer den att ge ett fel om data för någon period inte finns i mappen som du läser data ifrån. ¨"
   ]
  },
  {
   "cell_type": "code",
   "execution_count": null,
   "metadata": {},
   "outputs": [],
   "source": [
    "# year = '2022'\n",
    "# id = '10_01'\n",
    "# start = '2021-01-03'\n",
    "# stop = '2021-01-14'\n",
    "\n",
    "# datahandler.modify_linear_regression_log(linear_regression_log, year, id, # start, stop, action='remove')\n",
    "# json.dump(linear_regression_log, open(\"./linear_regression_log.json\", 'w'))\n",
    "# datahandler.print_linear_regression_log(linear_regression_log)"
   ]
  },
  {
   "cell_type": "markdown",
   "metadata": {},
   "source": [
    "### Read, process and save.\n",
    "\n",
    "- Read raw data (default path is D:/data/ferrybox)\n",
    "- Save raw data with all parameters together, one file for zeroing data (1 sec resolution) and one for measurements (1 min resolution) (default path is D:/data/ferrybox/processed_data).\n",
    "- Process raw data and save processed data"
   ]
  },
  {
   "cell_type": "code",
   "execution_count": null,
   "metadata": {},
   "outputs": [],
   "source": [
    "data_path = \"D:/data/ferrybox\" # change this if your raw data is stored elsewhere\n",
    "path_co2 = \"DeviceData/CO2FT_A\"\n",
    "save_processed_data = f\"{data_path}/processed_data\"\n",
    "processed_data = 0\n",
    "for year, year_log in linear_regression_log.items():\n",
    "    if int(year) != 2022:\n",
    "        continue\n",
    "    path = f\"{data_path}/{str(year)}/{path_co2}\"\n",
    "    for cruise_key, my_expedition in year_log.items():\n",
    "        if \"10_0x\" in cruise_key:\n",
    "            continue\n",
    "        for cruise_period in my_expedition[\"cruise_period\"]:\n",
    "            try:\n",
    "                cruise = Cruise(path, cruise_period, data_save_path=save_processed_data)\n",
    "                measurement_data, ZeroCycle = cruise.get_data_package()\n",
    "            except AssertionError as e:\n",
    "                print(e)\n",
    "                continue\n",
    "            process = ProcessData(data_save_path=save_processed_data, measurements = measurement_data, zerocycles = ZeroCycle, regression_period = cruise_period)\n",
    "            process.process_data()\n",
    "            if process.valid:\n",
    "                processed_data += 1\n",
    "            else:\n",
    "                print(f\"invalid data for {year}, {cruise_key}, {cruise_period}\")\n"
   ]
  }
 ],
 "metadata": {
  "interpreter": {
   "hash": "f70157655c40c69af2760a44a3d1e21a0a817b6aef56e51e669a70bb0e61772a"
  },
  "kernelspec": {
   "display_name": "Python 3.7.9 ('venv': venv)",
   "language": "python",
   "name": "python3"
  },
  "language_info": {
   "codemirror_mode": {
    "name": "ipython",
    "version": 3
   },
   "file_extension": ".py",
   "mimetype": "text/x-python",
   "name": "python",
   "nbconvert_exporter": "python",
   "pygments_lexer": "ipython3",
   "version": "3.7.9"
  },
  "orig_nbformat": 4
 },
 "nbformat": 4,
 "nbformat_minor": 2
}

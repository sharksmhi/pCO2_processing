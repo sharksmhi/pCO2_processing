{
 "cells": [
  {
   "cell_type": "markdown",
   "metadata": {},
   "source": [
    "# Process ferrybox pCO2 data from HydroC on R/V Svea"
   ]
  },
  {
   "cell_type": "markdown",
   "metadata": {},
   "source": [
    "### First cell loads modules needed for the processing"
   ]
  },
  {
   "cell_type": "code",
   "execution_count": null,
   "metadata": {},
   "outputs": [],
   "source": [
    "%load_ext autoreload\n",
    "%autoreload 2\n",
    "import warnings\n",
    "import json\n",
    "import os\n",
    "import datetime as dt\n",
    "import scipy.stats as stats\n",
    "import numpy as np\n",
    "import pandas as pd\n",
    "from bokeh.plotting import figure\n",
    "from bokeh.models import ColumnDataSource\n",
    "from bokeh.plotting import show, save\n",
    "from bokeh.io import output_notebook\n",
    "from bokeh.layouts import column, row, gridplot\n",
    "from bokeh.models import CrosshairTool\n",
    "warnings.filterwarnings('ignore')\n",
    "\n",
    "import datahandler\n",
    "import plot_data"
   ]
  },
  {
   "cell_type": "markdown",
   "metadata": {},
   "source": [
    "### Load information about cruise start and stop\n",
    "\n",
    "The processing is set up to process data from one cruise at a time. The information on start and stop date is stored in a .json-file named linear_regression_log.json. This file needs to be loaded before the processing. The file can be changed either be opening it and editing or as shown further down."
   ]
  },
  {
   "cell_type": "code",
   "execution_count": null,
   "metadata": {},
   "outputs": [],
   "source": [
    "linear_regression_log = json.load(open(\"./linear_regression_log.json\"))\n",
    "#datahandler.print_linear_regression_log(linear_regression_log)"
   ]
  },
  {
   "cell_type": "code",
   "execution_count": null,
   "metadata": {},
   "outputs": [],
   "source": [
    "data_path = \"D:/data/ferrybox/processed_data\"\n",
    "today = dt.datetime.today().strftime('%Y-%m-%d')\n",
    "# or set another date to read processed data from\n",
    "# today = \"2022-12-05\""
   ]
  },
  {
   "cell_type": "code",
   "execution_count": null,
   "metadata": {},
   "outputs": [],
   "source": [
    "### Load  data from the processed data directory\n",
    "data_collection = {}\n",
    "for data_source in [\"measurements_df_processed\", \"zerocycles_mean_df_processed\"]:\n",
    "    data_collection[data_source] = {}\n",
    "    for obj in os.scandir(f\"{data_path}/{today}\"):\n",
    "        if not obj.is_file():\n",
    "            continue\n",
    "        if not data_source in obj.name:\n",
    "            continue\n",
    "        df = pd.read_csv(obj.path, sep=\"\\t\",\n",
    "                    parse_dates=[\"timestamp\"],\n",
    "                    infer_datetime_format=True,\n",
    "                    dtype={\"Quality\": \"int\"})\n",
    "        data_collection[data_source][obj.name.strip(f\"{data_source}.txt\")] = df\n",
    "    print(data_source, list(data_collection[data_source].keys()))"
   ]
  },
  {
   "cell_type": "markdown",
   "metadata": {},
   "source": [
    "LENA: \n",
    "\n",
    "- Lägg till så man ser state measurement 2 beam signal tillsammans med zero cycle two beam signal.\n",
    "- Räta linjen från varje expe ska extrapoleras.\n",
    "\n"
   ]
  },
  {
   "cell_type": "markdown",
   "metadata": {},
   "source": [
    "#### First plot zeroing data to check for drift."
   ]
  },
  {
   "cell_type": "code",
   "execution_count": null,
   "metadata": {},
   "outputs": [],
   "source": [
    "figure_title = \"mean of zerocycles\"\n",
    "y_data = \"two_beam_signal\"\n",
    "p = plot_data.datetime_figure(figure_title, y_data_name=y_data)\n",
    "color = plot_data.color\n",
    "cruise_no = 0\n",
    "data_source = \"zerocycles_mean_df_processed\"\n",
    "for cruise, data in data_collection[data_source].items():\n",
    "    timestamps = data[\"timestamp\"].tolist()\n",
    "    p.circle(\n",
    "            x=data[\"timestamp\"],\n",
    "            y=data[y_data],\n",
    "            color= color[cruise_no],\n",
    "            fill_alpha=0.6,\n",
    "            legend_label=f\"{cruise}\",\n",
    "            size=2,\n",
    "        )\n",
    "\n",
    "    if not \"zero\" in data_source:\n",
    "        cruise_no += 1\n",
    "        continue\n",
    "    data['slope']\n",
    "    data = data.assign(linearcorrection_y = lambda x: (x['slope']*x['timenumeric'] + x['intercept']))\n",
    "\n",
    "    p.line(\n",
    "        x = data[\"timestamp\"],\n",
    "        y = data['linearcorrection_y'],\n",
    "        color = color[cruise_no],\n",
    "        legend_label = f\"linear fit {cruise_no}\",\n",
    "        width = 1,\n",
    "        )\n",
    "\n",
    "    cruise_no += 1\n",
    "\n",
    "p.legend.click_policy = \"hide\"\n",
    "p.add_layout(p.legend[0], 'right')\n",
    "save(p, f\"D:/figures/ferrybox/{figure_title}.html\")"
   ]
  },
  {
   "cell_type": "markdown",
   "metadata": {},
   "source": [
    "## plot measurements\n",
    "\n",
    "Put all measurement data into one dataframe and show by quality and state"
   ]
  },
  {
   "cell_type": "code",
   "execution_count": null,
   "metadata": {},
   "outputs": [],
   "source": [
    "data_source = \"measurements_df_processed\"\n",
    "data_list = []\n",
    "for cruise, data in data_collection[data_source].items():\n",
    "    data_list.append(data)\n",
    "\n",
    "all_data = pd.concat(data_list)"
   ]
  },
  {
   "cell_type": "code",
   "execution_count": null,
   "metadata": {},
   "outputs": [],
   "source": [
    "figure_title = \"measurements\"\n",
    "y_data = \"pco2\"\n",
    "color = plot_data.color\n",
    "\n",
    "## first a plot with all data from State measure colored by Quality flag\n",
    "p1 = plot_data.datetime_figure(figure_title = f\"{figure_title} only state measure\", y_data_name=y_data)\n",
    "\n",
    "cruise_no = 0\n",
    "flagcolor_dict = {flag: i for i, flag in enumerate(all_data['Q_flag'].unique())}\n",
    "for flag, data in all_data.loc[(all_data[\"state\"] ==\"State_Measure\")].groupby('Q_flag'):\n",
    "    timestamps = data[\"timestamp\"].tolist()\n",
    "    p1.circle(\n",
    "            x=data[\"timestamp\"],\n",
    "            y=data[y_data],\n",
    "            color= color[flagcolor_dict[flag]],\n",
    "            fill_alpha=0.6,\n",
    "            legend_label=f\"{flag}\",\n",
    "            size=2,\n",
    "        )\n",
    "    cruise_no += 1\n",
    "p1.legend.click_policy = \"hide\"\n",
    "p1.add_layout(p1.legend[0], 'right')\n",
    "\n",
    "## next a plot with all data from Quality flag 0 colored by State\n",
    "p2 = plot_data.datetime_figure(figure_title = f\"{figure_title} only flag 0: Operate\", y_data_name=y_data)\n",
    "previous_color = flagcolor_dict[flag]\n",
    "cruise_no = 0\n",
    "statecolor_dict = {flag: i+previous_color for i, flag in enumerate(all_data['state'].unique())}\n",
    "\n",
    "for state, data in all_data.loc[(all_data[\"Q_flag\"] == \"0: Operate\")].groupby('state'):\n",
    "    timestamps = data[\"timestamp\"].tolist()\n",
    "    p2.circle(\n",
    "            x=data[\"timestamp\"],\n",
    "            y=data[y_data],\n",
    "            color= color[statecolor_dict[state]],\n",
    "            fill_alpha=0.6,\n",
    "            legend_label=f\"{state}\",\n",
    "            size=2,\n",
    "        )\n",
    "    cruise_no += 1\n",
    "\n",
    "p2.legend.click_policy = \"hide\"\n",
    "p2.add_layout(p2.legend[0], 'right')\n",
    "\n",
    "## next a plot with all data from all states colored by Quality flag\n",
    "p3 = plot_data.datetime_figure(figure_title = f\"{figure_title} all states\", y_data_name=y_data)\n",
    "previous_color = flagcolor_dict[flag]\n",
    "cruise_no = 0\n",
    "\n",
    "for qflag, data in all_data.groupby('Q_flag'):\n",
    "    timestamps = data[\"timestamp\"].tolist()\n",
    "    p3.circle(\n",
    "            x=data[\"timestamp\"],\n",
    "            y=data[y_data],\n",
    "            color= color[flagcolor_dict[qflag]],\n",
    "            fill_alpha=0.6,\n",
    "            legend_label=f\"{qflag}\",\n",
    "            size=2,\n",
    "        )\n",
    "    cruise_no += 1\n",
    "\n",
    "p3.legend.click_policy = \"hide\"\n",
    "p3.add_layout(p3.legend[0], 'right')\n",
    "\n",
    "## put the two plots into the same grid with sharead axes\n",
    "p3.x_range = p2.x_range = p1.x_range\n",
    "p3.y_range = p2.y_range = p1.y_range\n",
    "\n",
    "grid = gridplot([p1, p2, p3], ncols=1)\n",
    "\n",
    "save(grid, f\"D:/figures/ferrybox/{figure_title}.html\")"
   ]
  }
 ],
 "metadata": {
  "interpreter": {
   "hash": "f70157655c40c69af2760a44a3d1e21a0a817b6aef56e51e669a70bb0e61772a"
  },
  "kernelspec": {
   "display_name": "Python 3.7.9 ('venv': venv)",
   "language": "python",
   "name": "python3"
  },
  "language_info": {
   "codemirror_mode": {
    "name": "ipython",
    "version": 3
   },
   "file_extension": ".py",
   "mimetype": "text/x-python",
   "name": "python",
   "nbconvert_exporter": "python",
   "pygments_lexer": "ipython3",
   "version": "3.7.9"
  },
  "orig_nbformat": 4
 },
 "nbformat": 4,
 "nbformat_minor": 2
}
